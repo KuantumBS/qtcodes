{
 "cells": [
  {
   "cell_type": "code",
   "execution_count": 111,
   "id": "167b3e56-595e-417f-a223-6c574a30af74",
   "metadata": {},
   "outputs": [
    {
     "name": "stdout",
     "output_type": "stream",
     "text": [
      "The autoreload extension is already loaded. To reload it, use:\n",
      "  %reload_ext autoreload\n"
     ]
    }
   ],
   "source": [
    "%load_ext autoreload\n",
    "%autoreload 2"
   ]
  },
  {
   "cell_type": "code",
   "execution_count": 112,
   "id": "5b3f2eed-8354-4961-b359-b0e719131639",
   "metadata": {},
   "outputs": [],
   "source": [
    "from qtcodes import TopologicalRegister, TopologicalCircuit, REPETITION, XXZZ, XZZX\n",
    "from qiskit import execute, Aer, QuantumCircuit, QuantumRegister, ClassicalRegister"
   ]
  },
  {
   "cell_type": "markdown",
   "id": "6425b739-90d7-4753-8e47-d5d317cc895a",
   "metadata": {},
   "source": [
    "# Helper"
   ]
  },
  {
   "cell_type": "code",
   "execution_count": 113,
   "id": "51804af3-9335-4038-b0c9-89ad76eadaad",
   "metadata": {},
   "outputs": [],
   "source": [
    "def add_xxxx(qc, syndrome, ancilla, qs):\n",
    "    top_l, top_r, bot_l, bot_r = qs\n",
    "    qc.h(syndrome)\n",
    "    if top_r is not None:\n",
    "        qc.cx(syndrome, top_r)\n",
    "    if top_l is not None:\n",
    "        qc.cx(syndrome, top_l)\n",
    "    if bot_r is not None:\n",
    "        qc.cx(syndrome, bot_r)\n",
    "    if bot_l is not None:\n",
    "        qc.cx(syndrome, bot_l)\n",
    "    qc.h(syndrome)\n",
    "    qc.measure(syndrome, ancilla)\n",
    "    qc.barrier()\n",
    "    \n",
    "def add_zzzz(qc, syndrome, ancilla, qs):\n",
    "    top_l, top_r, bot_l, bot_r = qs\n",
    "    if top_r is not None:\n",
    "        qc.cx(top_r, syndrome)\n",
    "    if bot_r is not None:\n",
    "        qc.cx(bot_r, syndrome)\n",
    "    if top_l is not None:\n",
    "        qc.cx(top_l, syndrome)\n",
    "    if bot_l is not None:\n",
    "        qc.cx(bot_l, syndrome)\n",
    "    qc.measure(syndrome, ancilla)\n",
    "    qc.barrier()\n",
    "    "
   ]
  },
  {
   "cell_type": "code",
   "execution_count": 173,
   "id": "659f3335-4d22-4e54-819e-22b5450683fc",
   "metadata": {},
   "outputs": [],
   "source": [
    "from qiskit import execute, Aer\n",
    "def sim(circ):\n",
    "    return execute(circ, \n",
    "                  Aer.get_backend(\"aer_simulator\"), \n",
    "                  shots=10,\n",
    "                 ).result().get_counts()"
   ]
  },
  {
   "cell_type": "markdown",
   "id": "4c278989-a88f-4702-a0e3-14e99cd12cae",
   "metadata": {},
   "source": [
    "# Protected ZZ"
   ]
  },
  {
   "cell_type": "code",
   "execution_count": 177,
   "id": "e640bef3-ccab-4085-bb62-21291c957cfd",
   "metadata": {},
   "outputs": [],
   "source": [
    "treg = TopologicalRegister(ctypes=[XXZZ, XXZZ], params=[{\"d\": 3}, {\"d\":3}])\n",
    "tcirc = TopologicalCircuit(treg)\n",
    "tcirc.reset_z(0)\n",
    "tcirc.reset_z(1)\n",
    "\n",
    "tcirc.x(0)\n",
    "tcirc.x(1)\n",
    "\n",
    "data_0 = tcirc[0].lattice.qregisters[\"data\"]\n",
    "data_1 = tcirc[1].lattice.qregisters[\"data\"]\n",
    "\n",
    "\n",
    "num_r = 2\n",
    "qr = QuantumRegister(num_r,\"qr_parity\")\n",
    "cr = ClassicalRegister(num_r,\"cr_parity\")\n",
    "tcirc.circ.add_register(qr)\n",
    "tcirc.circ.add_register(cr)\n",
    "\n",
    "# ZZ\n",
    "add_zzzz(tcirc.circ, qr[0], cr[0], (data_0[6],data_0[7],data_1[0],None))\n",
    "add_zzzz(tcirc.circ, qr[1], cr[1], (None,data_0[8],data_1[1],data_1[2]))"
   ]
  },
  {
   "cell_type": "code",
   "execution_count": 178,
   "id": "d34b074f-6963-4645-8181-935e795cde17",
   "metadata": {},
   "outputs": [
    {
     "data": {
      "text/plain": [
       "{'00': 10}"
      ]
     },
     "execution_count": 178,
     "metadata": {},
     "output_type": "execute_result"
    }
   ],
   "source": [
    "results = sim(tcirc.circ)\n",
    "results"
   ]
  },
  {
   "cell_type": "markdown",
   "id": "0e451d12-f062-4717-a6c8-8f7c6fc6e545",
   "metadata": {},
   "source": [
    "# Protected XX"
   ]
  },
  {
   "cell_type": "code",
   "execution_count": 189,
   "id": "8e4c8bfb-6ffa-4a9d-ab43-bf34f0abc5c5",
   "metadata": {},
   "outputs": [],
   "source": [
    "treg = TopologicalRegister(ctypes=[XXZZ, XXZZ], params=[{\"d\": 3}, {\"d\":3}])\n",
    "tcirc = TopologicalCircuit(treg)\n",
    "tcirc.reset_x(0)\n",
    "tcirc.reset_x(1)\n",
    "\n",
    "# tcirc.z(0)\n",
    "# tcirc.z(1)\n",
    "\n",
    "data_0 = tcirc[0].lattice.qregisters[\"data\"]\n",
    "data_1 = tcirc[1].lattice.qregisters[\"data\"]\n",
    "\n",
    "\n",
    "num_r = 2\n",
    "qr = QuantumRegister(num_r,\"qr_parity\")\n",
    "cr = ClassicalRegister(num_r,\"cr_parity\")\n",
    "tcirc.circ.add_register(qr)\n",
    "tcirc.circ.add_register(cr)\n",
    "\n",
    "\n",
    "# XX\n",
    "add_xxxx(tcirc.circ, qr[0], cr[0], (data_0[2],data_1[0],None,data_1[3]))\n",
    "add_xxxx(tcirc.circ, qr[1], cr[1], (data_0[5],None,data_0[8],data_1[6]))"
   ]
  },
  {
   "cell_type": "code",
   "execution_count": 190,
   "id": "eddf1ca4-ac62-4af1-9c3b-ce7ff55cab08",
   "metadata": {},
   "outputs": [
    {
     "data": {
      "text/plain": [
       "{'00': 10}"
      ]
     },
     "execution_count": 190,
     "metadata": {},
     "output_type": "execute_result"
    }
   ],
   "source": [
    "results = sim(tcirc.circ)\n",
    "results"
   ]
  }
 ],
 "metadata": {
  "kernelspec": {
   "display_name": "Python 3 (ipykernel)",
   "language": "python",
   "name": "python3"
  },
  "language_info": {
   "codemirror_mode": {
    "name": "ipython",
    "version": 3
   },
   "file_extension": ".py",
   "mimetype": "text/x-python",
   "name": "python",
   "nbconvert_exporter": "python",
   "pygments_lexer": "ipython3",
   "version": "3.9.5"
  }
 },
 "nbformat": 4,
 "nbformat_minor": 5
}
